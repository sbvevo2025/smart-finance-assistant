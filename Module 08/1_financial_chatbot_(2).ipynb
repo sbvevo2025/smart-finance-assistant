{
  "cells": [
    {
      "cell_type": "markdown",
      "metadata": {
        "id": "view-in-github",
        "colab_type": "text"
      },
      "source": [
        "<a href=\"https://colab.research.google.com/github/sbvevo2025/smart-finance-assistant/blob/main/Module%2008/1_financial_chatbot_(2).ipynb\" target=\"_parent\"><img src=\"https://colab.research.google.com/assets/colab-badge.svg\" alt=\"Open In Colab\"/></a>"
      ]
    },
    {
      "cell_type": "markdown",
      "metadata": {
        "id": "qfiUrlhmDnt6"
      },
      "source": [
        "# Building a Financial Advisor Chatbot\n",
        "**Learn to create an AI-powered financial assistant using hands-on-ai**\n",
        "\n",
        "## What You'll Build\n",
        "A simple chatbot that acts as a \"Financial Sage\" - giving educational financial advice and analyzing transaction data from CSV files.\n",
        "\n",
        "## Setup\n",
        "\n",
        "1First install package"
      ]
    },
    {
      "cell_type": "code",
      "metadata": {
        "id": "gIcEiSdbDnuA"
      },
      "source": [
        "# Install required packages\n",
        "!pip install hands-on-ai pandas"
      ],
      "execution_count": null,
      "outputs": []
    },
    {
      "cell_type": "markdown",
      "source": [
        "Now lets setup environment\n",
        "\n",
        "The next few cells prepares your computer to talk to an AI service.\n",
        "\n",
        "It stores the server address, model name, and your secret key as environment variables.\n",
        "\n",
        "Other programs (or later Python code) can read those variables to connect to the AI—without hard-coding secrets into the source file.\n",
        "\n",
        "That's it! It's mainly about safe configuration: setting values once, keeping your API key private, and letting other code reuse those settings."
      ],
      "metadata": {
        "id": "oLgbWWlqEVKs"
      }
    },
    {
      "cell_type": "code",
      "source": [
        "import os\n",
        "from getpass import getpass"
      ],
      "metadata": {
        "id": "x-R0Sgr6Egrq"
      },
      "execution_count": null,
      "outputs": []
    },
    {
      "cell_type": "markdown",
      "source": [
        "> os is a built-in Python module that lets you interact with your computer’s operating system.  In this script, it’s used to set environment variables—special settings your program (and other programs) can read.\n",
        "\n",
        "> getpass is a function that asks the user to type something (like a password) without showing it on the screen, so it stays secret."
      ],
      "metadata": {
        "id": "VevaDnkuEvI7"
      }
    },
    {
      "cell_type": "code",
      "source": [
        "# Configure hands-on-ai server connection\n",
        "os.environ['HANDS_ON_AI_SERVER'] = 'https://ollama.serveur.au'\n",
        "os.environ['HANDS_ON_AI_MODEL'] = 'llama3.2'"
      ],
      "metadata": {
        "id": "gGf5_Ug8EwpT"
      },
      "execution_count": null,
      "outputs": []
    },
    {
      "cell_type": "markdown",
      "source": [
        "os.environ is like a dictionary of key-value pairs that represent environment variables.\n",
        "\n",
        "Here we create three variables:\n",
        "\n",
        "* HANDS_ON_AI_SERVER: The web address of the AI server we’ll connect to.\n",
        "* HANDS_ON_AI_MODEL: The specific AI model name we want to use (granite3.2).\n",
        "* the third is discussed later\n",
        "\n",
        "These settings can be read later by other Python code or by external tools—so you don’t have to hard-code them everywhere."
      ],
      "metadata": {
        "id": "6298qBfAFFec"
      }
    },
    {
      "cell_type": "code",
      "source": [
        "os.environ['HANDS_ON_AI_API_KEY'] = getpass('Enter your API key: ')"
      ],
      "metadata": {
        "id": "daIwptApFPaZ"
      },
      "execution_count": null,
      "outputs": []
    },
    {
      "cell_type": "markdown",
      "source": [
        "The cell prompts you with the message “Enter your API key: ”.\n",
        "\n",
        "The api key needed:   **isys2001-assignment-key**\n",
        "\n",
        "While you type, nothing appears on the screen (for security).\n",
        "\n",
        "Whatever you type is saved as the environment variable HANDS_ON_AI_API_KEY.\n",
        "\n",
        "> API key = a private password-like token that proves you’re allowed to use the AI service."
      ],
      "metadata": {
        "id": "TxeW3qNoFcqE"
      }
    },
    {
      "cell_type": "code",
      "source": [
        "print(\"🔑 Hands-on-AI configured successfully!\")"
      ],
      "metadata": {
        "id": "WkusVpQNF3hC"
      },
      "execution_count": null,
      "outputs": []
    },
    {
      "cell_type": "markdown",
      "source": [
        "Finally, a simple confirmation message shows that the setup is done.\n",
        "\n",
        "Now lets test the package.\n"
      ],
      "metadata": {
        "id": "2PQITIMHF4CJ"
      }
    },
    {
      "cell_type": "code",
      "source": [
        "from hands_on_ai.chat import pirate_bot\n",
        "print(pirate_bot(\"What is photosynthesis?\"))"
      ],
      "metadata": {
        "id": "6zn9KEi2JCeg"
      },
      "execution_count": null,
      "outputs": []
    },
    {
      "cell_type": "markdown",
      "metadata": {
        "id": "qs6vVEtGDnuB"
      },
      "source": [
        "## Step 1: Ask AI to Help Design the Chatbot\n",
        "\n",
        "Let's start by asking Colab's AI to help us think through the design. thry the following prompt.\n",
        "\n",
        "```\n",
        "Help me design a simple financial advisor chatbot that:\n",
        "1. Takes user questions about personal finance\n",
        "2. Gives educational advice (not professional financial advice)\n",
        "3. Can analyze transaction data from a CSV file\n",
        "4. Has a personality as a \"wise financial sage\"\n",
        "\n",
        "What should the basic structure look like in Python?\n",
        "```"
      ]
    },
    {
      "cell_type": "markdown",
      "metadata": {
        "id": "Mel9Nt4ODnuC"
      },
      "source": [
        "## Step 2: Create the Basic Chatbot\n",
        "\n",
        "Based on AI suggestions, let's build the core chatbot:"
      ]
    },
    {
      "cell_type": "code",
      "metadata": {
        "id": "gToIBUbdDnuD"
      },
      "source": [
        "from hands_on_ai.chat import get_response\n",
        "import os\n",
        "\n",
        "def financial_sage(question: str):\n",
        "    \"\"\"\n",
        "    A personality bot that provides educational financial guidance.\n",
        "    \"\"\"\n",
        "    personality = \"\"\"\n",
        "    You are a wise Financial Sage with years of experience in personal finance.\n",
        "    You give educational, general advice about money management, investing, and budgeting.\n",
        "    You speak in a friendly but knowledgeable tone.\n",
        "    Always remind users that this is educational content, not professional financial advice.\n",
        "    \"\"\"\n",
        "\n",
        "    prompt = personality + question\n",
        "    # The get_response function sends the prompt and system message to the LLM\n",
        "    return get_response(prompt=question)\n",
        "\n",
        "# Test the financial sage bot\n",
        "test_question = \"Should I invest in stocks or save my money in a bank account?\"\n",
        "advice = financial_sage(test_question)\n",
        "\n",
        "print(\"Financial Sage says:\")\n",
        "print(advice)"
      ],
      "execution_count": null,
      "outputs": []
    },
    {
      "cell_type": "markdown",
      "metadata": {
        "id": "0uyTCSdMDnuD"
      },
      "source": [
        "## Step 3: Add Transaction Analysis\n",
        "\n",
        "Let's create some sample transaction data and ask AI to help us analyze it:"
      ]
    },
    {
      "cell_type": "code",
      "metadata": {
        "id": "WllTL6QkDnuE"
      },
      "source": [
        "# Create sample transaction data\n",
        "sample_transactions = {\n",
        "    'Date': ['2024-01-01', '2024-01-02', '2024-01-03', '2024-01-05', '2024-01-07'],\n",
        "    'Description': ['Salary', 'Grocery Store', 'Coffee Shop', 'Gas Station', 'Restaurant'],\n",
        "    'Category': ['Income', 'Food', 'Food', 'Transportation', 'Food'],\n",
        "    'Amount': [3000, -85.50, -4.50, -45.00, -32.75]\n",
        "}\n",
        "\n",
        "# Create DataFrame and save as CSV\n",
        "df = pd.DataFrame(sample_transactions)\n",
        "df.to_csv('transactions.csv', index=False)\n",
        "\n",
        "print(\"Sample transactions created:\")\n",
        "print(df)"
      ],
      "execution_count": null,
      "outputs": []
    },
    {
      "cell_type": "markdown",
      "metadata": {
        "id": "eCNx8sYEDnuF"
      },
      "source": [
        "Now let's ask AI to help us build transaction analysis.  Try this prompt:\n",
        "\n",
        "```\n",
        "I have transaction data with columns: Date, Description, Category, Amount\n",
        "Help me write a Python function that:\n",
        "1. Loads the CSV with pandas\n",
        "2. Calculates basic financial insights (income, expenses, savings rate)\n",
        "3. Identifies spending patterns\n",
        "4. Formats this information for an AI chatbot to discuss\n",
        "\n",
        "Show me the code structure.\n",
        "```\n",
        "\n",
        "> Can you suggest improvement to the prompt?"
      ]
    },
    {
      "cell_type": "markdown",
      "metadata": {
        "id": "_THSKyy7DnuH"
      },
      "source": [
        "## Step 4: Implement Transaction Analysis\n",
        "\n",
        "Based on AI suggestions, let's add transaction analysis to our sage:"
      ]
    },
    {
      "cell_type": "code",
      "metadata": {
        "id": "osSook-QDnuH"
      },
      "source": [
        "def analyse_transactions(csv_file):\n",
        "    \"\"\"Analyze user's transaction data\"\"\"\n",
        "    # Load the data\n",
        "    df = pd.read_csv(csv_file)\n",
        "\n",
        "    # Basic calculations\n",
        "    total_income = df[df['Amount'] > 0]['Amount'].sum()\n",
        "    total_expenses = abs(df[df['Amount'] < 0]['Amount'].sum())\n",
        "    net_savings = total_income - total_expenses\n",
        "    savings_rate = (net_savings / total_income * 100) if total_income > 0 else 0\n",
        "\n",
        "    # Spending by category\n",
        "    expense_by_category = df[df['Amount'] < 0].groupby('Category')['Amount'].sum().abs()\n",
        "\n",
        "    # Create summary for AI analysis\n",
        "    summary = f\"\"\"\n",
        "    Financial Summary:\n",
        "    - Total Income: ${total_income:.2f}\n",
        "    - Total Expenses: ${total_expenses:.2f}\n",
        "    - Net Savings: ${net_savings:.2f}\n",
        "    - Savings Rate: {savings_rate:.1f}%\n",
        "\n",
        "    Spending by Category:\n",
        "    {expense_by_category.to_string()}\n",
        "    \"\"\"\n",
        "\n",
        "    return summary\n",
        "\n",
        "# Test transaction analysis\n",
        "transaction_summary = analyse_transactions('transactions.csv')\n",
        "\n",
        "# Get financial advice\n",
        "advice = financial_sage(f\"Based on my spending, how can I save more money?  {transaction_summary}\")\n",
        "print(advice)"
      ],
      "execution_count": null,
      "outputs": []
    },
    {
      "cell_type": "markdown",
      "metadata": {
        "id": "W0NazlsVDnuI"
      },
      "source": [
        "## Step 5: Combine Everything - Ask Questions About Your Data\n",
        "\n",
        "Now let's ask the sage to give advice based on the transaction data:"
      ]
    },
    {
      "cell_type": "code",
      "metadata": {
        "id": "CS3JqdncDnuI"
      },
      "source": [
        "def get_advice(csv_file, question):\n",
        "    \"\"\"Get advice based on transaction data and user question\"\"\"\n",
        "\n",
        "    # Get transaction analysis\n",
        "    analysis = analyse_transactions(csv_file)\n",
        "\n",
        "    # Combine with user question\n",
        "    full_prompt = f\"\"\"\n",
        "\n",
        "    Here's the user's financial data:\n",
        "    {analysis}\n",
        "\n",
        "    User question: {question}\n",
        "\n",
        "    Based on this financial data, provide personalized educational advice.\n",
        "    \"\"\"\n",
        "\n",
        "    advice = financial_sage(full_prompt)\n",
        "    return advice\n",
        "\n",
        "\n",
        "# Test data-based advice\n",
        "data_question = \"Based on my spending, how can I save more money?\"\n",
        "data_advice = get_advice('transactions.csv', data_question)\n",
        "\n",
        "print(\"Data-Based Financial Advice:\")\n",
        "print(data_advice)"
      ],
      "execution_count": null,
      "outputs": []
    },
    {
      "cell_type": "markdown",
      "metadata": {
        "id": "X-pl14UADnuI"
      },
      "source": [
        "## Step 6: Create Interactive Chat Function\n",
        "\n",
        "Let's make it easy to chat with our financial sage.  This function creates a simple “chat” with a friendly money expert. When you run it, you can type questions about your finances, ask it to analyse your spending, or type quit to stop. If you ask for an analysis, it reads your transaction file, shows a summary of where your money goes, and can give extra tips if you ask follow-up questions. For anything else, it just gives general financial advice—like a basic chatbot focused on money matters."
      ]
    },
    {
      "cell_type": "code",
      "metadata": {
        "id": "cJlQRyTdDnuI"
      },
      "source": [
        "def chat_with_sage():\n",
        "    \"\"\"Interactive chat with the financial sage\"\"\"\n",
        "\n",
        "    print(\"💰 Welcome to the Financial Sage! 💰\")\n",
        "    print(\"Ask me any financial question, or type 'analyse' to look at your transactions.\")\n",
        "    print(\"Type 'quit' to exit.\\n\")\n",
        "\n",
        "    while True:\n",
        "        user_input = input(\"You: \")\n",
        "\n",
        "        if user_input.lower() == 'quit':\n",
        "            print(\"Sage: May your finances prosper! Goodbye!\")\n",
        "            break\n",
        "        elif user_input.lower() == 'analyse':\n",
        "            # Analyze transaction data\n",
        "            analysis = analyse_transactions('transactions.csv')\n",
        "            print(f\"Sage: Here's your financial analysis:\\n{analysis}\")\n",
        "\n",
        "            follow_up = input(\"\\nAny questions about your spending? \")\n",
        "            if follow_up.strip():\n",
        "                advice = get_data_advice('transactions.csv', follow_up)\n",
        "                print(f\"Sage: {advice}\")\n",
        "        else:\n",
        "            # Regular financial advice\n",
        "            advice = get_advice('transactions.csv', user_input)\n",
        "            print(f\"Sage: {advice}\")\n",
        "\n",
        "        print()  # Add spacing"
      ],
      "execution_count": null,
      "outputs": []
    },
    {
      "cell_type": "markdown",
      "source": [
        "**Lets start the chatbot**\n",
        "\n",
        "> The chat_with_sage() function starts an interactive text-based conversation with a “Financial Sage” assistant. It greets the user and then repeatedly waits for input until the user types quit, which ends the chat. If the user types analyse, it calls a helper function analyse_transactions('transactions.csv') to summarise spending data from a CSV file and displays the results. After that, it offers a follow-up question prompt; if the user enters something, it calls get_data_advice('transactions.csv', follow_up) to give personalised insights based on the transaction data. For any other message, it assumes a normal financial question and calls get_advice(user_input) to generate general advice. After each response it prints a blank line for neat spacing, effectively creating a simple loop that handles quitting, transaction analysis, and everyday finance queries."
      ],
      "metadata": {
        "id": "pyzJP4qSQR10"
      }
    },
    {
      "cell_type": "code",
      "source": [
        "chat_with_sage()"
      ],
      "metadata": {
        "id": "VOJB34uGPrrK"
      },
      "execution_count": null,
      "outputs": []
    },
    {
      "cell_type": "markdown",
      "metadata": {
        "id": "L-x86Y3hDnuJ"
      },
      "source": [
        "## Step 7: Test with Different Questions\n",
        "\n",
        "Let's test our sage with various financial questions:"
      ]
    },
    {
      "cell_type": "code",
      "metadata": {
        "id": "RSWyRpMHDnuJ"
      },
      "source": [
        "# Test different types of questions\n",
        "test_questions = [\n",
        "    \"I'm 22 and just started working. How should I begin investing?\",\n",
        "    \"What's the difference between stocks and bonds?\",\n",
        "    \"How much should I have in an emergency fund?\",\n",
        "    \"Is it better to pay off debt or invest?\",\n",
        "    \"Based on my spending, should I be worried about anything?\"\n",
        "]\n",
        "\n",
        "print(\"Testing Financial Sage with various questions:\")\n",
        "print(\"=\" * 50)\n",
        "\n",
        "for question in test_questions:\n",
        "    print(f\"\\nQuestion: {question}\")\n",
        "\n",
        "    if \"based on my spending\" in question.lower():\n",
        "        # Use transaction data for this question\n",
        "        answer = get_advice('transactions.csv', question)\n",
        "    else:\n",
        "        # Regular advice\n",
        "        answer = financial_sage(question)\n",
        "\n",
        "    print(f\"Sage: {answer[:200]}...\")  # Show first 200 characters\n",
        "    print(\"-\" * 30)"
      ],
      "execution_count": null,
      "outputs": []
    },
    {
      "cell_type": "markdown",
      "metadata": {
        "id": "J8JKbt2lDnuK"
      },
      "source": [
        "## Step 8: Ask AI for Improvements\n",
        "\n",
        "Let's ask AI how to make our chatbot better.  Try this prompt:\n",
        "\n",
        "```\n",
        "I built a simple financial advisor chatbot that:\n",
        "- Answers financial questions with educational advice\n",
        "- Analyzes CSV transaction data\n",
        "- Combines data analysis with personalized advice\n",
        "\n",
        "How could I improve this chatbot? What features would make it more useful?\n",
        "What are potential issues I should watch out for?\n",
        "```"
      ]
    },
    {
      "cell_type": "markdown",
      "metadata": {
        "id": "SR2UyxQwDnuK"
      },
      "source": [
        "## Your Turn: Extend the Chatbot\n",
        "\n",
        "Try adding one of these features with AI help:\n",
        "\n",
        "* Add budget planning capabilities\n",
        "* Include goal-setting and tracking\n",
        "* Add investment portfolio analysis\n",
        "* Create spending categorization rules\n",
        "* Add financial education tips"
      ]
    },
    {
      "cell_type": "code",
      "metadata": {
        "id": "dgcu7TeRDnuL"
      },
      "source": [
        "# Implement your chosen extension here\n",
        "def my_chatbot_extension():\n",
        "    \"\"\"Your custom extension to the financial sage\"\"\"\n",
        "\n",
        "    # TODO: Add your feature based on AI suggestions\n",
        "    print(\"Extension coming soon...\")\n",
        "\n",
        "# Test your extension\n",
        "my_chatbot_extension()"
      ],
      "execution_count": null,
      "outputs": []
    },
    {
      "cell_type": "markdown",
      "metadata": {
        "id": "QHB0BFl5DnuL"
      },
      "source": [
        "## Key Takeaways\n",
        "\n",
        "You've built a financial advisor chatbot that:\n",
        "- Uses AI to provide educational financial advice\n",
        "- Analyzes real transaction data from CSV files\n",
        "- Combines data insights with personalized recommendations\n",
        "- Demonstrates how to use LLMs for domain-specific applications\n",
        "\n",
        "This shows how AI can be used to create helpful financial tools while maintaining appropriate disclaimers about not providing professional financial advice.\n",
        "\n",
        "## Next Steps\n",
        "\n",
        "- Upload your own transactions.csv file and test the analysis\n",
        "- Add more sophisticated financial calculations\n",
        "- Integrate with the API and scraping tutorials\n",
        "- Build a Gradio interface for better user experience\n",
        "- Explore more advanced financial analysis features\n",
        "\n",
        "Remember: This is educational content and not professional financial advice!"
      ]
    }
  ],
  "metadata": {
    "kernelspec": {
      "name": "python3",
      "language": "python",
      "display_name": "Python 3 (ipykernel)"
    },
    "colab": {
      "provenance": [],
      "include_colab_link": true
    }
  },
  "nbformat": 4,
  "nbformat_minor": 0
}